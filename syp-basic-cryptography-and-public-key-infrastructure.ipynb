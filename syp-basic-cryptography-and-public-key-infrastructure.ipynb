{
 "cells": [
  {
   "cell_type": "markdown",
   "id": "d4ee9e4b",
   "metadata": {},
   "source": [
    "***\n",
    "< [Home](https://github.com/SeanOhAileasa) | [README](https://github.com/SeanOhAileasa/syp-basic-cryptography-and-public-key-infrastructure/blob/main/README.md) >\n",
    "\n",
    "## CompTIA Security+ - Course Material 2022\n",
    "###### Topic: ``Basic Cryptography and Public Key Infrastructure``\n",
    "***"
   ]
  },
  {
   "cell_type": "markdown",
   "id": "b82b07fb",
   "metadata": {},
   "source": [
    "Course material for the ``CompTIA Security+`` module of the ``ICT Associate Apprenticeship (Cybersecurity)`` programme."
   ]
  },
  {
   "cell_type": "markdown",
   "id": "e7228f57",
   "metadata": {},
   "source": [
    "<a id=\"top\"></a>\n",
    "***\n",
    "## Table of Contents\n",
    "***"
   ]
  },
  {
   "cell_type": "markdown",
   "id": "c2bb5e7b",
   "metadata": {},
   "source": [
    "### [Basic Cryptography and Public Key Infrastructure](#BasicCryptographyandPublicKeyInfrastructure) <br/><br/>\n",
    "<hr width=50%;>"
   ]
  },
  {
   "cell_type": "markdown",
   "id": "6af7255a",
   "metadata": {},
   "source": [
    "### [Symmetric vs. Asymmetric Cryptosystems](#SymmetricvsAsymmetricCryptosystems) <br/><br/>\n",
    "<hr width=50%;>"
   ]
  },
  {
   "cell_type": "markdown",
   "id": "160efdcd",
   "metadata": {},
   "source": [
    "### [Characteristics of Cryptographic Keys](#CharacteristicsofCryptographicKeys) <br/><br/>\n",
    "<hr width=50%;>"
   ]
  },
  {
   "cell_type": "markdown",
   "id": "af81a969",
   "metadata": {},
   "source": [
    "### [Block vs. Stream Cipher Suites](#BlockvsStreamCipherSuites) <br/><br/>\n",
    "<hr width=50%;>"
   ]
  },
  {
   "cell_type": "markdown",
   "id": "7895d2aa",
   "metadata": {},
   "source": [
    "### [Cryptographic Hashing](#CryptographicHashing) <br/><br/>\n",
    "<hr width=50%;>"
   ]
  },
  {
   "cell_type": "markdown",
   "id": "12869809",
   "metadata": {},
   "source": [
    "### [Key Exchange Mechanisms](#KeyExchangeMechanisms) <br/><br/>\n",
    "<hr width=50%;>"
   ]
  },
  {
   "cell_type": "markdown",
   "id": "d26788c1",
   "metadata": {},
   "source": [
    "### [Modes of Operation](#ModesofOperation) <br/><br/>\n",
    "<hr width=50%;>"
   ]
  },
  {
   "cell_type": "markdown",
   "id": "7fff3d34",
   "metadata": {},
   "source": [
    "### [Advanced Cryptography Concepts](#AdvancedCryptographyConcepts) <br/><br/>\n",
    "<hr width=50%;>"
   ]
  },
  {
   "cell_type": "markdown",
   "id": "2a6ccc7f",
   "metadata": {},
   "source": [
    "### [Common Use Cases and Limitations](#CommonUseCasesandLimitations) <br/><br/>\n",
    "<hr width=50%;>"
   ]
  },
  {
   "cell_type": "markdown",
   "id": "680c7e45",
   "metadata": {},
   "source": [
    "### [Public Key Infrastructure (PKI)](#PublicKeyInfrastructurePKI) <br/><br/>\n",
    "<hr width=50%;>"
   ]
  },
  {
   "cell_type": "markdown",
   "id": "ccf871ea",
   "metadata": {},
   "source": [
    "### [Types of Certificates](#TypesofCertificates) <br/><br/>\n",
    "<hr width=50%;>"
   ]
  },
  {
   "cell_type": "markdown",
   "id": "e55379b7",
   "metadata": {},
   "source": [
    "### [Core PKI Concepts](#CorePKIConcepts) <br/><br/>\n",
    "<hr width=50%;>"
   ]
  },
  {
   "cell_type": "markdown",
   "id": "2962a679",
   "metadata": {},
   "source": [
    "### [Course Overview](#CourseOverview) <br/><br/>\n",
    "<hr width=50%;>"
   ]
  },
  {
   "cell_type": "markdown",
   "id": "bf2b95e2",
   "metadata": {},
   "source": [
    "***\n",
    "## END"
   ]
  },
  {
   "cell_type": "markdown",
   "id": "34aa6eb5",
   "metadata": {},
   "source": [
    "< [Table of Contents](#top) | [References](#references) >\n",
    "<a id=\"BasicCryptographyandPublicKeyInfrastructure\"></a>\n",
    "***\n",
    "### Basic Cryptography and Public Key Infrastructure\n",
    "***"
   ]
  },
  {
   "cell_type": "markdown",
   "id": "173e78b5",
   "metadata": {},
   "source": [
    "To prepare for the CompTIA Security+ SY0-601 certification exam, you will need to be able to identify and describe basic cryptography concepts and their application in everyday use. You'll also need to recognize common aspects of Public Key Infrastructure (PKI). In this CompTIA Security+ SY0-601 course, you'll compare symmetric and asymmetric cryptography, recognize the characteristics of a cryptographic key, and contrast block and stream cipher operations. You'll explore the purpose and features of cryptographic hashing, common key exchange mechanisms, and various next-generation concepts such as lightweight cryptography, quantum and post-quantum computing, and homomorphic encryption. You'll move on to identify the main aspects and core concepts associated with Public Key Infrastructure (PKI). Finally, you'll distinguish several types of certificates and review different certificate formats."
   ]
  },
  {
   "cell_type": "markdown",
   "id": "839d0f62",
   "metadata": {},
   "source": [
    "Objectives\n",
    "\n",
    "- discover the key concepts covered in this course <br/><br/> \n",
    "- contrast symmetric and asymmetric cryptosystems <br/><br/> \n",
    "- describe a cryptographic key including key length, strength, stretching, and perfect forward secrecy <br/><br/> \n",
    "- compare block cipher and stream cipher operations <br/><br/> \n",
    "- relate the functions and features of cryptographic hashing including hashed message authentication codes (HMAC) <br/><br/> \n",
    "- distinguish common key exchange mechanisms such as Diffie-Hellman and Diffie-Hellman ephemeral <br/><br/> \n",
    "- survey modes of operation including authenticated (AEAD), unauthenticated, and counter <br/><br/> \n",
    "- interpret advanced concepts such as quantum and post-quantum computing, blockchain, and homomorphic encryption <br/><br/> \n",
    "- recognize everyday use cases like confidentiality, integrity, obfuscation, authentication, and non-repudiation <br/><br/> \n",
    "- define several aspects of PKI including key management, certificate authority (CA), certificate revocation list (CRL), certificate attributes, the Online Certificate Status Protocol (OCSP) and certificate signing requests (CSR) <br/><br/> \n",
    "- classify different types of certificates such as wildcard, SAN, code signing, self-signed, machine/computer, email, user, root, domain validation, and extended validation, then survey certificate formats like Distinguished Encoding Rules (DER), Privacy-enhanced Mail (PEM), Personal Information Exchange (PFX), .cer, P12, and P7B <br/><br/> \n",
    "- identify core PKI concepts such as online, offline, stapling, pinning, key escrow, and certificate chaining <br/><br/> \n",
    "- summarize the key concepts covered in this course <br/><br/> "
   ]
  },
  {
   "cell_type": "markdown",
   "id": "84b00380",
   "metadata": {},
   "source": [
    "< [Table of Contents](#top) | [References](#references) >\n",
    "<a id=\"SymmetricvsAsymmetricCryptosystems\"></a>\n",
    "***\n",
    "### Symmetric vs. Asymmetric Cryptosystems\n",
    "***"
   ]
  },
  {
   "cell_type": "markdown",
   "id": "d82d85d7",
   "metadata": {},
   "source": []
  },
  {
   "cell_type": "markdown",
   "id": "b4da2efe",
   "metadata": {},
   "source": [
    "< [Table of Contents](#top) | [References](#references) >\n",
    "<a id=\"CharacteristicsofCryptographicKeys\"></a>\n",
    "***\n",
    "### Characteristics of Cryptographic Keys\n",
    "***"
   ]
  },
  {
   "cell_type": "markdown",
   "id": "70f6e846",
   "metadata": {},
   "source": []
  },
  {
   "cell_type": "markdown",
   "id": "7b10c3a2",
   "metadata": {},
   "source": [
    "< [Table of Contents](#top) | [References](#references) >\n",
    "<a id=\"BlockvsStreamCipherSuites\"></a>\n",
    "***\n",
    "### Block vs. Stream Cipher Suites\n",
    "***"
   ]
  },
  {
   "cell_type": "markdown",
   "id": "2cc18496",
   "metadata": {},
   "source": []
  },
  {
   "cell_type": "markdown",
   "id": "1ce9ff85",
   "metadata": {},
   "source": [
    "< [Table of Contents](#top) | [References](#references) >\n",
    "<a id=\"CryptographicHashing\"></a>\n",
    "***\n",
    "### Cryptographic Hashing\n",
    "***"
   ]
  },
  {
   "cell_type": "markdown",
   "id": "8bb9c616",
   "metadata": {},
   "source": []
  },
  {
   "cell_type": "markdown",
   "id": "d87809fd",
   "metadata": {},
   "source": [
    "< [Table of Contents](#top) | [References](#references) >\n",
    "<a id=\"KeyExchangeMechanisms\"></a>\n",
    "***\n",
    "### Key Exchange Mechanisms\n",
    "***"
   ]
  },
  {
   "cell_type": "markdown",
   "id": "f0a909b6",
   "metadata": {},
   "source": []
  },
  {
   "cell_type": "markdown",
   "id": "c781a700",
   "metadata": {},
   "source": [
    "< [Table of Contents](#top) | [References](#references) >\n",
    "<a id=\"ModesofOperation\"></a>\n",
    "***\n",
    "### Modes of Operation\n",
    "***"
   ]
  },
  {
   "cell_type": "markdown",
   "id": "cd41c08d",
   "metadata": {},
   "source": []
  },
  {
   "cell_type": "markdown",
   "id": "1256d7bf",
   "metadata": {},
   "source": [
    "< [Table of Contents](#top) | [References](#references) >\n",
    "<a id=\"AdvancedCryptographyConcepts\"></a>\n",
    "***\n",
    "### Advanced Cryptography Concepts\n",
    "***"
   ]
  },
  {
   "cell_type": "markdown",
   "id": "3ab13be8",
   "metadata": {},
   "source": []
  },
  {
   "cell_type": "markdown",
   "id": "47707114",
   "metadata": {},
   "source": [
    "< [Table of Contents](#top) | [References](#references) >\n",
    "<a id=\"CommonUseCasesandLimitations\"></a>\n",
    "***\n",
    "### Common Use Cases and Limitations\n",
    "***"
   ]
  },
  {
   "cell_type": "markdown",
   "id": "5c5eb4ce",
   "metadata": {},
   "source": []
  },
  {
   "cell_type": "markdown",
   "id": "9adeceaf",
   "metadata": {},
   "source": [
    "< [Table of Contents](#top) | [References](#references) >\n",
    "<a id=\"PublicKeyInfrastructurePKI\"></a>\n",
    "***\n",
    "### Public Key Infrastructure PKI\n",
    "***"
   ]
  },
  {
   "cell_type": "markdown",
   "id": "45d2f914",
   "metadata": {},
   "source": []
  },
  {
   "cell_type": "markdown",
   "id": "fd680b58",
   "metadata": {},
   "source": [
    "< [Table of Contents](#top) | [References](#references) >\n",
    "<a id=\"TypesofCertificates\"></a>\n",
    "***\n",
    "### Types of Certificates\n",
    "***"
   ]
  },
  {
   "cell_type": "markdown",
   "id": "86a67316",
   "metadata": {},
   "source": []
  },
  {
   "cell_type": "markdown",
   "id": "d438e44b",
   "metadata": {},
   "source": [
    "< [Table of Contents](#top) | [References](#references) >\n",
    "<a id=\"CorePKIConcepts\"></a>\n",
    "***\n",
    "### Core PKI Concepts\n",
    "***"
   ]
  },
  {
   "cell_type": "markdown",
   "id": "6779b825",
   "metadata": {},
   "source": []
  },
  {
   "cell_type": "markdown",
   "id": "bd89bb21",
   "metadata": {},
   "source": [
    "< [Table of Contents](#top) | [References](#references) >\n",
    "<a id=\"CourseOverview\"></a>\n",
    "***\n",
    "### Course Overview\n",
    "***"
   ]
  },
  {
   "cell_type": "markdown",
   "id": "c9f42d31",
   "metadata": {},
   "source": []
  },
  {
   "cell_type": "markdown",
   "id": "2cc20932",
   "metadata": {},
   "source": [
    "***\n",
    "## END"
   ]
  },
  {
   "cell_type": "markdown",
   "id": "e0e42d51",
   "metadata": {},
   "source": [
    "< [Table of Contents](#top) >\n",
    "<a id=\"references\"></a>\n",
    "***\n",
    "## References\n",
    "***"
   ]
  },
  {
   "cell_type": "markdown",
   "id": "757bf6de",
   "metadata": {},
   "source": [
    "&nbsp;&nbsp;&nbsp;&nbsp;&nbsp;&nbsp;&nbsp;&nbsp;&nbsp;eCollege, \"Basic Cryptography and Public Key Infrastructure,\" [ecollege.ie](https://web.archive.org/web/20220328112908/https://www.ecollege.ie/courses/comptia-security/), n.d.."
   ]
  },
  {
   "cell_type": "markdown",
   "id": "b33c372a",
   "metadata": {},
   "source": [
    "***\n",
    "## END"
   ]
  },
  {
   "cell_type": "markdown",
   "id": "e5961b4d",
   "metadata": {},
   "source": [
    "< [Table of Contents](#top) | [References](#references) >\n",
    "<a id=\"appendix\"></a>\n",
    "***\n",
    "## Appendix\n",
    "***"
   ]
  },
  {
   "cell_type": "markdown",
   "id": "00d82a82",
   "metadata": {},
   "source": [
    "***\n",
    "## END"
   ]
  },
  {
   "cell_type": "code",
   "execution_count": 1,
   "id": "706756a2",
   "metadata": {},
   "outputs": [
    {
     "data": {
      "text/html": [
       "<style>.container { width:100% !important; }</style>"
      ],
      "text/plain": [
       "<IPython.core.display.HTML object>"
      ]
     },
     "metadata": {},
     "output_type": "display_data"
    }
   ],
   "source": [
    "from IPython.core.display import display,HTML\n",
    "display(HTML(\"<style>.container { width:100% !important; }</style>\"))"
   ]
  },
  {
   "cell_type": "markdown",
   "id": "899c1783",
   "metadata": {},
   "source": [
    "# END JUPYTER NOTEBOOK"
   ]
  }
 ],
 "metadata": {
  "kernelspec": {
   "display_name": "Python 3",
   "language": "python",
   "name": "python3"
  },
  "language_info": {
   "codemirror_mode": {
    "name": "ipython",
    "version": 3
   },
   "file_extension": ".py",
   "mimetype": "text/x-python",
   "name": "python",
   "nbconvert_exporter": "python",
   "pygments_lexer": "ipython3",
   "version": "3.8.8"
  }
 },
 "nbformat": 4,
 "nbformat_minor": 5
}
